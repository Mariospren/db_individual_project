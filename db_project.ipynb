{
 "cells": [
  {
   "cell_type": "markdown",
   "metadata": {},
   "source": [
    "Welcome to the individual project. I decided to use Jupyter Notebook to provide a more detailed view of the way I did it, and also to learn a little more Python :"
   ]
  },
  {
   "cell_type": "markdown",
   "metadata": {},
   "source": [
    "First, we import the corresponding libraries."
   ]
  },
  {
   "cell_type": "code",
   "execution_count": 67,
   "metadata": {},
   "outputs": [],
   "source": [
    "from pymongo import MongoClient\n",
    "from bson import ObjectId"
   ]
  },
  {
   "cell_type": "markdown",
   "metadata": {},
   "source": [
    "\n",
    "We connect to MongoDB using pymongo. With the necessary documentation, you can connect or even create your own databases. Important reminder that you need to have MongoDB configured and be connected. I achieved this through MongoDB Compass, using the default connection ports as localhost"
   ]
  },
  {
   "cell_type": "code",
   "execution_count": 68,
   "metadata": {},
   "outputs": [],
   "source": [
    "# Connect to the MongoDB database\n",
    "client = MongoClient('localhost', 27017)\n",
    "db = client['exercises']  # Replace 'your_database_name' with your database name\n",
    "artists_collection = db['artists']  # Replace 'artists' with your artists_collectioncollection name\n",
    "albums_collection = db['albums']  # Collection for albums\n",
    "songs_collection = db['songs']  # Collection for asongs"
   ]
  },
  {
   "cell_type": "markdown",
   "metadata": {},
   "source": [
    "Halfway through the individual project, I realized that I was repeating many methods, such as the add method. So, I decided to create functions to reduce the total number of lines in the document"
   ]
  },
  {
   "cell_type": "code",
   "execution_count": 69,
   "metadata": {},
   "outputs": [],
   "source": [
    "# Function to add an artist\n",
    "def add_artist(name, genre, artists_collection):\n",
    "    # Define the document for the new artist\n",
    "    new_artist = {\n",
    "        \"name\": name,\n",
    "        \"genre\": genre\n",
    "    }\n",
    "    \n",
    "    # Insert the new artist into the collection\n",
    "    result = artists_collection.insert_one(new_artist)\n",
    "    \n",
    "    # Print the ID of the inserted artist\n",
    "    print(\"ID of the new inserted artist:\", result.inserted_id)\n",
    "\n",
    "# Function to add an album\n",
    "def add_album(title, release_year, artist_name, albums_collection, artists_collection):\n",
    "    # Find the artist by name\n",
    "    artist = artists_collection.find_one({\"name\": artist_name})\n",
    "    artist_id = artist[\"_id\"] if artist else None\n",
    "    \n",
    "    # Define the document for the new album\n",
    "    new_album = {\n",
    "        \"title\": title,\n",
    "        \"release_year\": release_year,\n",
    "        \"artist_id\": artist_id\n",
    "    }\n",
    "    \n",
    "    # Insert the new album into the collection\n",
    "    result = albums_collection.insert_one(new_album)\n",
    "    \n",
    "    # Print the ID of the inserted album\n",
    "    print(\"ID of the new inserted album:\", result.inserted_id)\n",
    "\n",
    "# Function to add a song\n",
    "def add_song(title, duration, album_title, songs_collection, albums_collection):\n",
    "    # Find the album by title\n",
    "    album = albums_collection.find_one({\"title\": album_title})\n",
    "    album_id = album[\"_id\"] if album else None\n",
    "    \n",
    "    # Define the document for the new song\n",
    "    new_song = {\n",
    "        \"title\": title,\n",
    "        \"duration\": duration,\n",
    "        \"album_id\": album_id\n",
    "    }\n",
    "    \n",
    "    # Insert the new song into the collection\n",
    "    result = songs_collection.insert_one(new_song)\n",
    "    \n",
    "    # Print the ID of the inserted song\n",
    "    print(\"ID of the new inserted song:\", result.inserted_id)"
   ]
  },
  {
   "cell_type": "markdown",
   "metadata": {},
   "source": [
    "# Exercise 1:\n",
    "Objective: Insert a new artist into the database.\n",
    "\n",
    "Hint: insertOne() method is used to insert a single document into a collection.\n",
    "\n",
    "Result: The artists collection will have a new document:"
   ]
  },
  {
   "cell_type": "code",
   "execution_count": 70,
   "metadata": {},
   "outputs": [
    {
     "name": "stdout",
     "output_type": "stream",
     "text": [
      "ID of the new inserted artist: 65c5ea1099457be3737bbc9f\n"
     ]
    }
   ],
   "source": [
    "# Define the new artist\n",
    "john_doe = \"John Doe\"\n",
    "genre_rock = \"Rock\"\n",
    "\n",
    "# Add the new artist\n",
    "add_artist(john_doe, genre_rock, artists_collection)"
   ]
  },
  {
   "cell_type": "markdown",
   "metadata": {},
   "source": [
    "# Exercise 2:\n",
    "Objective: Insert a new artist with their genre.\n",
    "\n",
    "Result: The \"artists\" collection will have a new document with the specified name \"Taylor Swift\" and genre \"Pop\"."
   ]
  },
  {
   "cell_type": "code",
   "execution_count": 71,
   "metadata": {},
   "outputs": [
    {
     "name": "stdout",
     "output_type": "stream",
     "text": [
      "ID of the new inserted artist: 65c5ea1099457be3737bbca0\n"
     ]
    }
   ],
   "source": [
    "# Define the new artist\n",
    "taylor_swift = \"Taylor Swift\"\n",
    "genre_pop = \"Pop\"\n",
    "\n",
    "# Add the new artist\n",
    "add_artist(taylor_swift, genre_pop, artists_collection)\n"
   ]
  },
  {
   "cell_type": "markdown",
   "metadata": {},
   "source": [
    "# Exercise 3:\n",
    "Objective: Insert multiple artists with their genres.\n",
    "\n",
    "Result: The \"artists\" collection will have two new documents, one for \"Ed Sheeran\" with the genre \"Pop\" and another for \"Drake\" with the genre \"Hip Hop\"."
   ]
  },
  {
   "cell_type": "code",
   "execution_count": 72,
   "metadata": {},
   "outputs": [
    {
     "name": "stdout",
     "output_type": "stream",
     "text": [
      "ID of the new inserted artist: 65c5ea1099457be3737bbca1\n",
      "ID of the new inserted artist: 65c5ea1099457be3737bbca2\n"
     ]
    }
   ],
   "source": [
    "# Define the list of new artists\n",
    "new_artists_list = [\n",
    "    {\"name\": \"Ed Sheeran\", \"genre\": \"Pop\"},\n",
    "    {\"name\": \"Drake\", \"genre\": \"Hip Hop\"}\n",
    "]\n",
    "\n",
    "# Insert the new artists\n",
    "for artist in new_artists_list:\n",
    "    add_artist(artist[\"name\"], artist[\"genre\"], artists_collection)"
   ]
  },
  {
   "cell_type": "markdown",
   "metadata": {},
   "source": [
    "# Exercise 4:\n",
    "Objective: Insert an artist without specifying the genre.\n",
    "\n",
    "Result: The \"artists\" collection will have a new document for \"Adele\" without a specified genre."
   ]
  },
  {
   "cell_type": "code",
   "execution_count": 73,
   "metadata": {},
   "outputs": [
    {
     "name": "stdout",
     "output_type": "stream",
     "text": [
      "ID of the new inserted artist: 65c5ea1099457be3737bbca3\n"
     ]
    }
   ],
   "source": [
    "# Define the new artist\n",
    "adele = \"Adele\"\n",
    "genre_empty = \"\"\n",
    "\n",
    "# Add the new artist\n",
    "add_artist(adele, genre_empty, artists_collection)\n"
   ]
  },
  {
   "cell_type": "markdown",
   "metadata": {},
   "source": [
    "# Exercise 5:\n",
    "Objective: Insert a new artist and update their genre.\n",
    "\n",
    "Result: The \"artists\" collection will have a new document for \"Kendrick Lamar\" without a specified genre initially. Then, it will be updated to include the genre \"Hip Hop\"."
   ]
  },
  {
   "cell_type": "code",
   "execution_count": 74,
   "metadata": {},
   "outputs": [
    {
     "name": "stdout",
     "output_type": "stream",
     "text": [
      "ID of the new inserted artist: 65c5ea1099457be3737bbca4\n"
     ]
    }
   ],
   "source": [
    "# Define the new artist without specifying the genre\n",
    "kendrick = \"Kendrick Lamar\"\n",
    "\n",
    "# Add the new artist without specifying the genre\n",
    "add_artist(kendrick, \"\", artists_collection)"
   ]
  },
  {
   "cell_type": "code",
   "execution_count": 75,
   "metadata": {},
   "outputs": [
    {
     "name": "stdout",
     "output_type": "stream",
     "text": [
      "Document updated to include the genre 'Hip Hop' for Kendrick Lamar.\n"
     ]
    }
   ],
   "source": [
    "#Now we update the document to include the genre \"Hip Hop\"\n",
    "filter_query = {\"name\": \"Kendrick Lamar\"}\n",
    "update_query = {\"$set\": {\"genre\": \"Hip Hop\"}}\n",
    "artists_collection.update_one(filter_query, update_query)\n",
    "\n",
    "# Print confirmation message\n",
    "print(\"Document updated to include the genre 'Hip Hop' for Kendrick Lamar.\")"
   ]
  },
  {
   "cell_type": "markdown",
   "metadata": {},
   "source": [
    "# Exercise 6:\n",
    "Objective: Insert a new album with its title, release year, and the corresponding artist's ObjectID.\n",
    "\n",
    "Result: The \"albums\" collection will have a new document for the album \"1989\" released in 2014, associated with the specified artist ObjectID."
   ]
  },
  {
   "cell_type": "code",
   "execution_count": 76,
   "metadata": {},
   "outputs": [
    {
     "name": "stdout",
     "output_type": "stream",
     "text": [
      "ID of the new inserted album: 65c5ea1099457be3737bbca5\n"
     ]
    }
   ],
   "source": [
    "\n",
    "\n",
    "# Define the new album\n",
    "album_title = \"1989\"\n",
    "album_release_year = 2014\n",
    "\n",
    "# Add the new album\n",
    "add_album(album_title, album_release_year, taylor_swift, albums_collection, artists_collection)\n"
   ]
  },
  {
   "cell_type": "markdown",
   "metadata": {},
   "source": [
    "# Exercise 7:\n",
    "Objective: Insert multiple albums with their titles, release years, and corresponding artist ObjectIDs.\n",
    "\n",
    "Result: The \"albums\" collection will have two new documents for the albums \"÷\" (released in 2017) and \"Views\" (released in 2016), both associated with the specified artist ObjectID."
   ]
  },
  {
   "cell_type": "code",
   "execution_count": 77,
   "metadata": {},
   "outputs": [
    {
     "name": "stdout",
     "output_type": "stream",
     "text": [
      "ID of the new inserted album: 65c5ea1099457be3737bbca6\n",
      "ID of the new inserted album: 65c5ea1099457be3737bbca7\n"
     ]
    }
   ],
   "source": [
    "# Define the list of new albums documents\n",
    "new_albums_list = [\n",
    "    {\n",
    "        \"title\": \"÷\",\n",
    "        \"release_year\": 2017,\n",
    "        \"artist_name\": \"Ed Sheeran\"\n",
    "    },\n",
    "    {\n",
    "        \"title\": \"Views\",\n",
    "        \"release_year\": 2016,\n",
    "        \"artist_name\": \"Drake\"\n",
    "    }\n",
    "]\n",
    "\n",
    "# Insert the new albums\n",
    "for album in new_albums_list:\n",
    "    add_album(album[\"title\"], album[\"release_year\"], album[\"artist_name\"], albums_collection, artists_collection)"
   ]
  },
  {
   "cell_type": "markdown",
   "metadata": {},
   "source": [
    "# Exercise 8:\n",
    "Objective: Insert an album with a specific ObjectID and reference an existing artist.\n",
    "\n",
    "Result: The \"albums\" collection will have a new document with the specified ObjectID and the album information for \"Lemonade\" (released in 2016), associated with the specified artist ObjectID of Beyoncé.\n",
    "\n"
   ]
  },
  {
   "cell_type": "code",
   "execution_count": 78,
   "metadata": {},
   "outputs": [
    {
     "name": "stdout",
     "output_type": "stream",
     "text": [
      "ID of the new inserted artist: 65c5ea1099457be3737bbca8\n"
     ]
    }
   ],
   "source": [
    "# Define the artist document for Beyoncé\n",
    "beyonce = {\n",
    "    \"name\": \"Beyoncé\",\n",
    "    \"genre\": \"Pop\"\n",
    "}\n",
    "\n",
    "# Insert the artist document for Beyoncé\n",
    "add_artist(beyonce[\"name\"], beyonce[\"genre\"], artists_collection)\n",
    "\n"
   ]
  },
  {
   "cell_type": "code",
   "execution_count": 79,
   "metadata": {},
   "outputs": [
    {
     "name": "stdout",
     "output_type": "stream",
     "text": [
      "ID of the new inserted album: 65c5ea1099457be3737bbca9\n"
     ]
    }
   ],
   "source": [
    "# Define the album document for Lemonade\n",
    "lemonade = {\n",
    "    \"title\": \"Lemonade\",\n",
    "    \"release_year\": 2016,\n",
    "    \"artist_name\": \"Beyoncé\"\n",
    "}\n",
    "\n",
    "# Insert the album document for Lemonade\n",
    "add_album(lemonade[\"title\"], lemonade[\"release_year\"], lemonade[\"artist_name\"], albums_collection, artists_collection)"
   ]
  },
  {
   "cell_type": "markdown",
   "metadata": {},
   "source": [
    "# Exercise 9:\n",
    "Objective: Insert an album with no reference to any artist.\n",
    "\n",
    "Result: The \"albums\" collection will have a new document for the album \"Untitled Album\" released in 2023 without any reference to an artist."
   ]
  },
  {
   "cell_type": "code",
   "execution_count": 80,
   "metadata": {},
   "outputs": [
    {
     "name": "stdout",
     "output_type": "stream",
     "text": [
      "ID of the new inserted album: 65c5ea1099457be3737bbcaa\n",
      "ID of the new inserted album document: <function add_album at 0x000001FF8D922020>\n"
     ]
    }
   ],
   "source": [
    "# Define the untitled album document\n",
    "untitled_album = {\n",
    "    \"title\": \"Untitled Album\",\n",
    "    \"release_year\": 2023\n",
    "}\n",
    "\n",
    "# Insert the untitled album document into the collection\n",
    "add_album(untitled_album[\"title\"], untitled_album[\"release_year\"], None, albums_collection, artists_collection)\n",
    "\n",
    "# Print the ID of the inserted document\n",
    "print(\"ID of the new inserted album document:\", add_album)"
   ]
  },
  {
   "cell_type": "markdown",
   "metadata": {},
   "source": [
    "# Exercise 10:\n",
    "Objective: Insert a new album."
   ]
  },
  {
   "cell_type": "code",
   "execution_count": 81,
   "metadata": {},
   "outputs": [
    {
     "name": "stdout",
     "output_type": "stream",
     "text": [
      "ID of the new inserted album: 65c5ea1099457be3737bbcab\n"
     ]
    }
   ],
   "source": [
    "# Define the album document for B'Day\n",
    "bday = {\n",
    "    \"title\": \"B'Day\",\n",
    "    \"release_year\": 2006,\n",
    "    \"artist_name\": \"Beyoncé\"  # Specify the artist's name\n",
    "}\n",
    "\n",
    "# Insert the album document for B'Day\n",
    "add_album(bday[\"title\"], bday[\"release_year\"], bday[\"artist_name\"], albums_collection, artists_collection)"
   ]
  },
  {
   "cell_type": "markdown",
   "metadata": {},
   "source": [
    "# Exercise 11:\n",
    "Objective: Insert a new song with its title, duration, and the corresponding album's ObjectID.\n",
    "\n",
    "Result: The \"songs\" collection will have a new document for the song \"Blank Space\" with a duration of 231 seconds, associated with the specified album ObjectID."
   ]
  },
  {
   "cell_type": "code",
   "execution_count": 82,
   "metadata": {},
   "outputs": [
    {
     "name": "stdout",
     "output_type": "stream",
     "text": [
      "ID of the new inserted song document: 65c5ea1099457be3737bbcac\n"
     ]
    }
   ],
   "source": [
    "# Retrieve the ObjectId of the specified album \"1989\"\n",
    "album_1989 = albums_collection.find_one({\"title\": \"1989\"})\n",
    "album1989_id = album_1989[\"_id\"]\n",
    "\n",
    "# Define the song document with the corresponding album ObjectId\n",
    "blank_space = {\n",
    "    \"title\": \"Blank Space\",\n",
    "    \"duration\": 231,\n",
    "    \"album_id\": album1989_id\n",
    "}\n",
    "\n",
    "# Insert the new song document into the collection\n",
    "result_blank_space = songs_collection.insert_one(blank_space)\n",
    "\n",
    "# Print the ID of the inserted document\n",
    "print(\"ID of the new inserted song document:\", result_blank_space.inserted_id)"
   ]
  },
  {
   "cell_type": "markdown",
   "metadata": {},
   "source": [
    "# Exercise 12:\n",
    "Objective: Insert multiple songs with their titles, durations, and corresponding album ObjectIDs.\n",
    "\n",
    "Result: The \"songs\" collection will have two new documents for the songs \"Shape of You\" (with a duration of 234 seconds) and \"Hotline Bling\" (with a duration of 267 seconds), both associated with the specified album ObjectID."
   ]
  },
  {
   "cell_type": "code",
   "execution_count": 83,
   "metadata": {},
   "outputs": [
    {
     "name": "stdout",
     "output_type": "stream",
     "text": [
      "ID of the new inserted song: 65c5ea1099457be3737bbcad\n",
      "ID of the new inserted song: 65c5ea1099457be3737bbcae\n"
     ]
    }
   ],
   "source": [
    "# Define the list of new song documents\n",
    "new_songs = [\n",
    "    {\n",
    "        \"title\": \"Shape of You\",\n",
    "        \"duration\": 234,\n",
    "        \"album_title\": \"÷\"\n",
    "    },\n",
    "    {\n",
    "        \"title\": \"Hotline Bling\",\n",
    "        \"duration\": 267,\n",
    "        \"album_title\": \"Views\"\n",
    "    }\n",
    "]\n",
    "\n",
    "# Insert the new song documents using the add_song function\n",
    "for song in new_songs:\n",
    "    add_song(song[\"title\"], song[\"duration\"], song[\"album_title\"], songs_collection, albums_collection)\n"
   ]
  },
  {
   "cell_type": "markdown",
   "metadata": {},
   "source": [
    "# Exercise 13:\n",
    "Objective: Insert a song with a specific ObjectID and reference an existing album.\n",
    "\n",
    "Result: The \"songs\" collection will have a new document with the specified ObjectID and the song information for \"Halo\" (with a duration of 215 seconds), associated with the specified album ObjectID of Beyoncé's album."
   ]
  },
  {
   "cell_type": "code",
   "execution_count": 84,
   "metadata": {},
   "outputs": [
    {
     "name": "stdout",
     "output_type": "stream",
     "text": [
      "ID of the new inserted album: 65c5ea1099457be3737bbcaf\n"
     ]
    }
   ],
   "source": [
    "# Define the album document for \"I Am... Sasha Fierce\"\n",
    "sasha_fierce = {\n",
    "    \"title\": \"I Am... Sasha Fierce\",\n",
    "    \"release_year\": 2008,\n",
    "    \"artist_name\": \"Beyoncé\"  # Use the artist's name instead of the artist ID\n",
    "}\n",
    "\n",
    "# Insert the album document for \"I Am... Sasha Fierce\"\n",
    "add_album(sasha_fierce[\"title\"], sasha_fierce[\"release_year\"], sasha_fierce[\"artist_name\"], albums_collection, artists_collection)"
   ]
  },
  {
   "cell_type": "code",
   "execution_count": 85,
   "metadata": {},
   "outputs": [
    {
     "name": "stdout",
     "output_type": "stream",
     "text": [
      "ID of the new inserted song: 65c5ea1099457be3737bbcb0\n"
     ]
    }
   ],
   "source": [
    "# Define the song document for \"Halo\" with the album ObjectId\n",
    "halo = {\n",
    "    \"title\": \"Halo\",\n",
    "    \"duration\": 215,\n",
    "    \"album_title\": \"I Am... Sasha Fierce\"  # Use the album title instead of ObjectId\n",
    "}\n",
    "\n",
    "# Insert the song document for \"Halo\" into the collection\n",
    "add_song(halo[\"title\"], halo[\"duration\"], halo[\"album_title\"], songs_collection, albums_collection)"
   ]
  },
  {
   "cell_type": "markdown",
   "metadata": {},
   "source": [
    "# Exercise 14:\n",
    "Objective: Insert a song with no reference to any album.\n",
    "\n",
    "Result: The \"songs\" collection will have a new document for the song \"Single Song\" with a duration of 180 seconds, without any reference to an album."
   ]
  },
  {
   "cell_type": "code",
   "execution_count": 86,
   "metadata": {},
   "outputs": [
    {
     "name": "stdout",
     "output_type": "stream",
     "text": [
      "ID of the new inserted song: 65c5ea1099457be3737bbcb1\n"
     ]
    }
   ],
   "source": [
    "# Define the song document for \"Single Song\" with no album reference\n",
    "single_song = {\n",
    "    \"title\": \"Single Song\",\n",
    "    \"duration\": 180\n",
    "}\n",
    "\n",
    "# Insert the song document for \"Single Song\" into the collection\n",
    "add_song(single_song[\"title\"], single_song[\"duration\"], None, songs_collection, albums_collection)\n"
   ]
  },
  {
   "cell_type": "markdown",
   "metadata": {},
   "source": [
    "# Exercise 15:\n",
    "Objective: Insert a new song."
   ]
  },
  {
   "cell_type": "code",
   "execution_count": 87,
   "metadata": {},
   "outputs": [
    {
     "name": "stdout",
     "output_type": "stream",
     "text": [
      "ID of the new inserted song: 65c5ea1099457be3737bbcb2\n"
     ]
    }
   ],
   "source": [
    "# Define the song document for \"Deja Vu\" with the reference to the album \"B'Day\"\n",
    "deja_vu = {\n",
    "    \"title\": \"Deja Vu\",\n",
    "    \"duration\": 215,\n",
    "    \"album_title\": \"B'Day\"  # Use the album title instead of ObjectId\n",
    "}\n",
    "\n",
    "# Insert the song document for \"Deja Vu\" into the collection\n",
    "add_song(deja_vu[\"title\"], deja_vu[\"duration\"], deja_vu[\"album_title\"], songs_collection, albums_collection)\n"
   ]
  },
  {
   "cell_type": "markdown",
   "metadata": {},
   "source": [
    "# Exercise 16:\n",
    "Objective: Update an album's release year.\n",
    "\n",
    "Hint: updateOne() method is used to update a single document in a collection. The $set operator is used to set the value of a field.\n",
    "\n",
    "Result: The albums collection will have the album \"Thriller\" with the updated release year:"
   ]
  },
  {
   "cell_type": "code",
   "execution_count": 88,
   "metadata": {},
   "outputs": [
    {
     "name": "stdout",
     "output_type": "stream",
     "text": [
      "ID of the new inserted artist: 65c5ea1099457be3737bbcb3\n"
     ]
    }
   ],
   "source": [
    "# Define the document for the new artist \"Michael Jackson\"\n",
    "michael_jackson = {\n",
    "    \"name\": \"Michael Jackson\",\n",
    "    \"genre\": \"Pop\"\n",
    "}\n",
    "\n",
    "# Insert the new artist document using the add_artist function\n",
    "add_artist(michael_jackson[\"name\"], michael_jackson[\"genre\"], artists_collection)\n",
    "\n"
   ]
  },
  {
   "cell_type": "code",
   "execution_count": 89,
   "metadata": {},
   "outputs": [
    {
     "name": "stdout",
     "output_type": "stream",
     "text": [
      "ID of the new inserted album: 65c5ea1099457be3737bbcb4\n"
     ]
    }
   ],
   "source": [
    "# Define the document for the \"Thriller\" album\n",
    "thriller_album = {\n",
    "    \"title\": \"Thriller\",\n",
    "    \"release_year\": 1982,  # Insert the release year\n",
    "    \"artist_name\": \"Michael Jackson\"  # Use the artist's name instead of ObjectId\n",
    "}\n",
    "\n",
    "# Insert the new album document using the add_album function\n",
    "add_album(thriller_album[\"title\"], thriller_album[\"release_year\"], thriller_album[\"artist_name\"], albums_collection, artists_collection)\n",
    "\n"
   ]
  },
  {
   "cell_type": "code",
   "execution_count": 90,
   "metadata": {},
   "outputs": [
    {
     "name": "stdout",
     "output_type": "stream",
     "text": [
      "Number of documents updated: 0\n"
     ]
    }
   ],
   "source": [
    "# Update the release year of the \"Thriller\" album\n",
    "updated_thriller = albums_collection.update_one(\n",
    "    {\"title\": \"Thriller\"},  # Filter to find the document for the \"Thriller\" album\n",
    "    {\"$set\": {\"release_year\": 1982}}  # Update the release year to 1983\n",
    ")\n",
    "\n",
    "# Print the number of documents updated\n",
    "print(\"Number of documents updated:\", updated_thriller.modified_count)"
   ]
  },
  {
   "cell_type": "markdown",
   "metadata": {},
   "source": [
    "# Exercise 17:\n",
    "Objective: Delete a song from the database.\n",
    "\n",
    "Hint: deleteOne() method is used to delete a single document from a collection.\n",
    "\n",
    "Result: The songs collection will have the song \"Bohemian Rhapsody\" removed from it."
   ]
  },
  {
   "cell_type": "code",
   "execution_count": 91,
   "metadata": {},
   "outputs": [
    {
     "name": "stdout",
     "output_type": "stream",
     "text": [
      "ID of the new inserted song: 65c5ea1099457be3737bbcb5\n"
     ]
    }
   ],
   "source": [
    "# Define the song document for \"Bohemian Rhapsody\"\n",
    "bohemian_rhapsody = {\n",
    "    \"title\": \"Bohemian Rhapsody\",\n",
    "    \"duration\": 355\n",
    "}\n",
    "\n",
    "# Insert the new song into the collection using the add_song function\n",
    "add_song(bohemian_rhapsody[\"title\"], bohemian_rhapsody[\"duration\"], None, songs_collection, albums_collection)\n",
    "\n",
    "\n"
   ]
  },
  {
   "cell_type": "code",
   "execution_count": 92,
   "metadata": {},
   "outputs": [
    {
     "name": "stdout",
     "output_type": "stream",
     "text": [
      "Number of documents deleted: 1\n"
     ]
    }
   ],
   "source": [
    "# Delete the song \"Bohemian Rhapsody\" from the collection\n",
    "result_delete = songs_collection.delete_one({\"title\": \"Bohemian Rhapsody\"})\n",
    "print(\"Number of documents deleted:\", result_delete.deleted_count)"
   ]
  },
  {
   "cell_type": "markdown",
   "metadata": {},
   "source": [
    "# Exercise 18:\n",
    "Objective: Find all artists of a specific genre.\n",
    "\n",
    "Hint: find() method is used to retrieve documents from a collection based on a query.\n",
    "\n",
    "Result: The query will return all artists in the artists collection that have the genre \"Pop.\""
   ]
  },
  {
   "cell_type": "code",
   "execution_count": 93,
   "metadata": {},
   "outputs": [
    {
     "name": "stdout",
     "output_type": "stream",
     "text": [
      "Pop artists:\n",
      "{'_id': ObjectId('65c5ea1099457be3737bbca0'), 'name': 'Taylor Swift', 'genre': 'Pop'}\n",
      "{'_id': ObjectId('65c5ea1099457be3737bbca1'), 'name': 'Ed Sheeran', 'genre': 'Pop'}\n",
      "{'_id': ObjectId('65c5ea1099457be3737bbca8'), 'name': 'Beyoncé', 'genre': 'Pop'}\n",
      "{'_id': ObjectId('65c5ea1099457be3737bbcb3'), 'name': 'Michael Jackson', 'genre': 'Pop'}\n"
     ]
    }
   ],
   "source": [
    "# Find all artists with the genre \"Pop\"\n",
    "pop_artists = artists_collection.find({\"genre\": \"Pop\"})\n",
    "\n",
    "# Print the results\n",
    "print(\"Pop artists:\")\n",
    "for artist in pop_artists:\n",
    "    print(artist)"
   ]
  },
  {
   "cell_type": "markdown",
   "metadata": {},
   "source": [
    "# Exercise 19:\n",
    "Objective: Find all songs of a particular albums.\n",
    "\n",
    "Hint: Use the find() method with a query based on the album_id field to find all songs belonging to a specific artist."
   ]
  },
  {
   "cell_type": "code",
   "execution_count": 94,
   "metadata": {},
   "outputs": [
    {
     "name": "stdout",
     "output_type": "stream",
     "text": [
      "Songs in the specified album:\n"
     ]
    }
   ],
   "source": [
    "\n",
    "\n",
    "# Find all songs belonging to the specified album\n",
    "album_songs = songs_collection.find({\"album_id\": \"Lemonade\"})\n",
    "\n",
    "# Print the results\n",
    "print(\"Songs in the specified album:\")\n",
    "for song in album_songs:\n",
    "    print(song)"
   ]
  },
  {
   "cell_type": "markdown",
   "metadata": {},
   "source": [
    "# Exercise 20:\n",
    "Objective: Insert a new album for an existing artist.\n",
    "\n",
    "Hint: Use findOne() method to find the existing artist and retrieve their artist_id. Then, use insertOne() to insert the new album with the artist_id reference.\n",
    "\n",
    "Result: The albums collection will have a new document representing the new album associated with the existing artist."
   ]
  },
  {
   "cell_type": "code",
   "execution_count": 95,
   "metadata": {},
   "outputs": [
    {
     "name": "stdout",
     "output_type": "stream",
     "text": [
      "ID of the new inserted album: 65c5ea1199457be3737bbcb6\n"
     ]
    }
   ],
   "source": [
    "# Define the new album for Taylor Swift\n",
    "folklore = {\n",
    "    \"title\": \"Folklore\",\n",
    "    \"release_year\": 2020,\n",
    "    \"artist_name\": \"Taylor Swift\"  # Use the artist's name instead of ObjectId\n",
    "}\n",
    "\n",
    "# Insert the new album into the collection using the add_album function\n",
    "add_album(folklore[\"title\"], folklore[\"release_year\"], folklore[\"artist_name\"], albums_collection, artists_collection)"
   ]
  },
  {
   "cell_type": "markdown",
   "metadata": {},
   "source": [
    "# Exercise 21:\n",
    "Objective: Update the genre of an artist.\n",
    "\n",
    "Hint: Use updateOne() method to update the genre field of the artist.\n",
    "\n",
    "Result: The artists collection will have the artist \"John Doe\" with the updated genre."
   ]
  },
  {
   "cell_type": "code",
   "execution_count": 96,
   "metadata": {},
   "outputs": [
    {
     "data": {
      "text/plain": [
       "UpdateResult({'n': 1, 'nModified': 1, 'ok': 1.0, 'updatedExisting': True}, acknowledged=True)"
      ]
     },
     "execution_count": 96,
     "metadata": {},
     "output_type": "execute_result"
    }
   ],
   "source": [
    "# Update the genre of the artist \"John Doe\"\n",
    "artists_collection.update_one({\"name\": \"John Doe\"}, {\"$set\": {\"genre\": \"Alternative\"}})\n"
   ]
  },
  {
   "cell_type": "markdown",
   "metadata": {},
   "source": [
    "# Exercise 22:\n",
    "Objective: Delete all songs from a specific album.\n",
    "\n",
    "Hint: Use deleteMany() method to remove all songs associated with that album_id.\n",
    "\n",
    "Result: The songs collection will have all songs from the \"New Album\" deleted."
   ]
  },
  {
   "cell_type": "code",
   "execution_count": 97,
   "metadata": {},
   "outputs": [
    {
     "data": {
      "text/plain": [
       "DeleteResult({'n': 1, 'ok': 1.0}, acknowledged=True)"
      ]
     },
     "execution_count": 97,
     "metadata": {},
     "output_type": "execute_result"
    }
   ],
   "source": [
    "# Retrieve the ObjectId of the album \"B'Day\"\n",
    "bday_album = albums_collection.find_one({\"title\": \"B'Day\"})\n",
    "bday_album_id = bday_album[\"_id\"]\n",
    "\n",
    "# Delete all songs associated with the album ObjectId\n",
    "songs_collection.delete_many({\"album_id\": bday_album_id})"
   ]
  },
  {
   "cell_type": "markdown",
   "metadata": {},
   "source": [
    "# Exercise 23:\n",
    "Objective: Find all albums released after a given year.\n",
    "\n",
    "Hint: Use the $gt operator in the find() method to retrieve albums released after the given year (e.g., 2000).\n",
    "\n",
    "Result: The query will return all albums in the albums collection that have a release_year after 2000."
   ]
  },
  {
   "cell_type": "code",
   "execution_count": 98,
   "metadata": {},
   "outputs": [
    {
     "name": "stdout",
     "output_type": "stream",
     "text": [
      "{'_id': ObjectId('65c5ea1099457be3737bbca5'), 'title': '1989', 'release_year': 2014, 'artist_id': ObjectId('65c5ea1099457be3737bbca0')}\n",
      "{'_id': ObjectId('65c5ea1099457be3737bbca6'), 'title': '÷', 'release_year': 2017, 'artist_id': ObjectId('65c5ea1099457be3737bbca1')}\n",
      "{'_id': ObjectId('65c5ea1099457be3737bbca7'), 'title': 'Views', 'release_year': 2016, 'artist_id': ObjectId('65c5ea1099457be3737bbca2')}\n",
      "{'_id': ObjectId('65c5ea1099457be3737bbca9'), 'title': 'Lemonade', 'release_year': 2016, 'artist_id': ObjectId('65c5ea1099457be3737bbca8')}\n",
      "{'_id': ObjectId('65c5ea1099457be3737bbcaa'), 'title': 'Untitled Album', 'release_year': 2023, 'artist_id': None}\n",
      "{'_id': ObjectId('65c5ea1099457be3737bbcab'), 'title': \"B'Day\", 'release_year': 2006, 'artist_id': ObjectId('65c5ea1099457be3737bbca8')}\n",
      "{'_id': ObjectId('65c5ea1099457be3737bbcaf'), 'title': 'I Am... Sasha Fierce', 'release_year': 2008, 'artist_id': ObjectId('65c5ea1099457be3737bbca8')}\n",
      "{'_id': ObjectId('65c5ea1199457be3737bbcb6'), 'title': 'Folklore', 'release_year': 2020, 'artist_id': ObjectId('65c5ea1099457be3737bbca0')}\n"
     ]
    }
   ],
   "source": [
    "# Define the year after which you want to find albums\n",
    "year = 2000\n",
    "\n",
    "# Find all albums released after the given year\n",
    "albums_after_given_year = albums_collection.find({\"release_year\": {\"$gt\": year}})\n",
    "\n",
    "# Print the albums released after the given year\n",
    "for album in albums_after_given_year:\n",
    "    print(album)\n"
   ]
  },
  {
   "cell_type": "markdown",
   "metadata": {},
   "source": [
    "# Exercise 24:\n",
    "Objective: Increment the duration of a specific song by 30 seconds.\n",
    "\n",
    "Hint: Use the $inc operator in the updateOne() method to increment the duration field of the specific song.\n",
    "\n",
    "Result: The songs collection will have the duration of the \"Song Title\" increased by 30 seconds.\n",
    "\n"
   ]
  },
  {
   "cell_type": "code",
   "execution_count": 99,
   "metadata": {},
   "outputs": [
    {
     "data": {
      "text/plain": [
       "UpdateResult({'n': 1, 'nModified': 1, 'ok': 1.0, 'updatedExisting': True}, acknowledged=True)"
      ]
     },
     "execution_count": 99,
     "metadata": {},
     "output_type": "execute_result"
    }
   ],
   "source": [
    "# Increment the duration of the song \"Shape of You\" by 30 seconds\n",
    "songs_collection.update_one({\"title\": \"Shape of You\"}, {\"$inc\": {\"duration\": 30}})\n",
    "\n"
   ]
  },
  {
   "cell_type": "markdown",
   "metadata": {},
   "source": [
    "# Exercise 25:\n",
    "Objective: Insert multiple songs into an album.\n",
    "\n",
    "Hint: Use insertMany() method to insert multiple songs into the album with the same album_id reference.\n",
    "\n",
    "Result: The songs collection will have three new documents representing the songs \"Song 1,\" \"Song 2,\" and \"Song 3,\" all associated with the \"New Album.\""
   ]
  },
  {
   "cell_type": "code",
   "execution_count": 100,
   "metadata": {},
   "outputs": [
    {
     "name": "stdout",
     "output_type": "stream",
     "text": [
      "IDs of the new inserted song documents: [ObjectId('65c5ea1199457be3737bbcb7'), ObjectId('65c5ea1199457be3737bbcb8'), ObjectId('65c5ea1199457be3737bbcb9')]\n"
     ]
    }
   ],
   "source": [
    "# Define the album title\n",
    "album_title = \"1989\"\n",
    "\n",
    "# Retrieve the ObjectId of the album\n",
    "album = albums_collection.find_one({\"title\": album_title})\n",
    "album_id = album[\"_id\"]\n",
    "\n",
    "# Define the songs to be inserted into the album\n",
    "new_songs = [\n",
    "    {\"title\": \"Welcome to New York\", \"duration\": 212, \"album_id\": album_id},\n",
    "    {\"title\": \"Style\", \"duration\": 232, \"album_id\": album_id},\n",
    "    {\"title\": \"Out of the Woods\", \"duration\": 236, \"album_id\": album_id}\n",
    "]\n",
    "\n",
    "# Insert the new songs into the collection\n",
    "result = songs_collection.insert_many(new_songs)\n",
    "\n",
    "# Print the IDs of the inserted documents\n",
    "print(\"IDs of the new inserted song documents:\", result.inserted_ids)\n"
   ]
  },
  {
   "cell_type": "markdown",
   "metadata": {},
   "source": [
    "# Exercise 26:\n",
    "Objective: Update the genre of all artist of a specific id.\n",
    "\n",
    "Hint: Use updateMany() method to update the genre field of all albums associated with that artist_id."
   ]
  },
  {
   "cell_type": "code",
   "execution_count": 101,
   "metadata": {},
   "outputs": [
    {
     "name": "stdout",
     "output_type": "stream",
     "text": [
      "Number of albums updated: 3\n"
     ]
    }
   ],
   "source": [
    "# Get Beyoncé's genre\n",
    "beyonce = artists_collection.find_one({\"name\": \"Beyoncé\"})\n",
    "beyonce_genre = beyonce[\"genre\"]\n",
    "beyonce_id = beyonce['_id']\n",
    "\n",
    "# Define the filter to find all albums by Beyoncé\n",
    "filter_query = {\"artist_id\": beyonce_id}\n",
    "\n",
    "# Define the update operation to set the new genre for all Beyoncé's albums\n",
    "update_operation = {\"$set\": {\"genre\": beyonce_genre}}\n",
    "\n",
    "# Update all documents that match the filter query with the new genre\n",
    "result = albums_collection.update_many(filter_query, update_operation)\n",
    "\n",
    "# Print the number of updated documents\n",
    "print(\"Number of albums updated:\", result.modified_count)\n"
   ]
  },
  {
   "cell_type": "markdown",
   "metadata": {},
   "source": [
    "# Exercise 27:\n",
    "Objective: Delete an artist and all their associated albums and songs.\n",
    "\n",
    "Hint: Use deleteOne() to remove the artist from the artists collection. Use deleteMany() to remove all albums and songs associated with the artist from the respective collections.\n",
    "\n",
    "Result: The artists, albums, and songs collections will no longer contain any documents related to \"John Doe.\""
   ]
  },
  {
   "cell_type": "code",
   "execution_count": 102,
   "metadata": {},
   "outputs": [],
   "source": [
    "# Delete the artist and all related documents (albums and songs)\n",
    "artist_name = \"John Doe\"\n",
    "\n",
    "# Find the artist's ID\n",
    "artist = artists_collection.find_one({\"name\": artist_name})\n",
    "if artist:\n",
    "    artist_id = artist[\"_id\"]\n",
    "    \n",
    "    # Delete the artist and all related albums (cascade deletion will automatically remove related songs)\n",
    "    artists_collection.delete_one({\"_id\": artist_id})\n"
   ]
  },
  {
   "cell_type": "markdown",
   "metadata": {},
   "source": [
    "# Exercise 28:\n",
    "Objective: Find the song with the longest duration.\n",
    "\n",
    "Hint: Use find() to retrieve all albums and sort() them in descending order based on the duration field. Use limit(1) to get only the first (i.e., longest duration) album.\n",
    "\n",
    "Result: The query will return the album with the longest duration from the albums collection."
   ]
  },
  {
   "cell_type": "code",
   "execution_count": 103,
   "metadata": {},
   "outputs": [
    {
     "name": "stdout",
     "output_type": "stream",
     "text": [
      "Song with the longest duration: {'_id': ObjectId('65c5ea1099457be3737bbcae'), 'title': 'Hotline Bling', 'duration': 267, 'album_id': ObjectId('65c5ea1099457be3737bbca7')}\n"
     ]
    }
   ],
   "source": [
    "# Find the song with the longest duration\n",
    "longest_song = songs_collection.find_one(sort=[(\"duration\", -1)])\n",
    "\n",
    "# Print the song with the longest duration\n",
    "print(\"Song with the longest duration:\", longest_song)\n"
   ]
  },
  {
   "cell_type": "markdown",
   "metadata": {},
   "source": [
    "# Exercise 29:\n",
    "Objective: Increment the release year of all albums released before 2000 by 5 years.\n",
    "\n",
    "Hint: Use updateMany() to find all albums with release_year before 2020 and increment their release_year by 5.\n",
    "\n",
    "Result: The albums collection will have the release years of qualifying albums increased by 5."
   ]
  },
  {
   "cell_type": "code",
   "execution_count": 104,
   "metadata": {},
   "outputs": [
    {
     "data": {
      "text/plain": [
       "UpdateResult({'n': 1, 'nModified': 1, 'ok': 1.0, 'updatedExisting': True}, acknowledged=True)"
      ]
     },
     "execution_count": 104,
     "metadata": {},
     "output_type": "execute_result"
    }
   ],
   "source": [
    "# Update the release year of albums released before 2000 by 5 years\n",
    "albums_collection.update_many({\"release_year\": {\"$lt\": 2000}}, {\"$inc\": {\"release_year\": 5}})\n"
   ]
  },
  {
   "cell_type": "markdown",
   "metadata": {},
   "source": [
    "# Results\n",
    "\n",
    "Now we can take a look at our database using tools like mongoDB compass"
   ]
  },
  {
   "cell_type": "markdown",
   "metadata": {},
   "source": [
    "### Albums\n",
    "![albums](./images/albums-image.png)\n"
   ]
  },
  {
   "cell_type": "markdown",
   "metadata": {},
   "source": [
    "### Artists\n",
    "![Artists](./images/artists-image.png)"
   ]
  },
  {
   "cell_type": "markdown",
   "metadata": {},
   "source": [
    "### Songs\n",
    "![songs](./images/songs-image.png)"
   ]
  }
 ],
 "metadata": {
  "kernelspec": {
   "display_name": "Python 3",
   "language": "python",
   "name": "python3"
  },
  "language_info": {
   "codemirror_mode": {
    "name": "ipython",
    "version": 3
   },
   "file_extension": ".py",
   "mimetype": "text/x-python",
   "name": "python",
   "nbconvert_exporter": "python",
   "pygments_lexer": "ipython3",
   "version": "3.11.7"
  }
 },
 "nbformat": 4,
 "nbformat_minor": 2
}
